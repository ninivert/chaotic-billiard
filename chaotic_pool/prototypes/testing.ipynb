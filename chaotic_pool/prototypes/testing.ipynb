{
 "cells": [
  {
   "cell_type": "code",
   "execution_count": 2,
   "id": "cf9d1a23-4b4e-49b4-8d82-e5ca215a5bcb",
   "metadata": {},
   "outputs": [],
   "source": [
    "import numpy as np"
   ]
  },
  {
   "cell_type": "code",
   "execution_count": 3,
   "id": "1518277c-b118-4706-bd94-7201cfea864c",
   "metadata": {},
   "outputs": [],
   "source": [
    "class Line:\n",
    "\tdef __init__(self, a=(0,0), b=(1,0)):\n",
    "\t\tself.a = np.array(a, dtype=float)\n",
    "\t\tself.b = np.array(b, dtype=float)\n",
    "\n",
    "\t@property\n",
    "\tdef bbox(self):\n",
    "\t\treturn (self.a[0], self.a[1], self.b[0], self.b[1])\n",
    "\t\t\n",
    "\t@property\n",
    "\tdef coefs(self):\n",
    "\t\t\"\"\"Returns (p,q,r) of the line px+qy=r passing through points a and b\"\"\"\n",
    "\t\tab = self.a - self.b\n",
    "\t\tq = -ab[0]\n",
    "\t\tp = ab[1]\n",
    "\t\tr = p*self.a[0] + q*self.a[1]\n",
    "\t\treturn (p,q,r)\n",
    "\t\t\n",
    "\t@property\n",
    "\tdef vec_perp(self):\n",
    "\t\tc = self.coefs\n",
    "\t\tn = np.array([c[0], c[1]])\n",
    "\t\tn /= np.linalg.norm(n)\n",
    "\t\treturn n\n",
    "\n",
    "\t@property\n",
    "\tdef vec_para(self):\n",
    "\t\tc = self.coefs\n",
    "\t\tm = np.array([-c[1], c[0]])\n",
    "\t\tm /= np.linalg.norm(m)\n",
    "\t\treturn m\n",
    "\t\t\n",
    "\t@staticmethod\n",
    "\tdef parallel(l1, l2):\n",
    "\t\tc1, c2 = l1.coefs, l2.coefs\n",
    "\t\treturn iszero(c1[0]*c2[1] - c2[0]*c1[1])\n",
    "\t\t\n",
    "\t@staticmethod\n",
    "\tdef intersection(l1, l2):\n",
    "\t\tc1, c2 = l1.coefs, l2.coefs\n",
    "\t\tdet = c1[0]*c2[1] - c2[0]*c1[1]\n",
    "\t\trhs = np.array([\n",
    "\t\t\tc1[2]*c2[1] - c2[2]*c1[1],\n",
    "\t\t\tc1[0]*c2[2] - c2[0]*c1[2]\n",
    "\t\t])\n",
    "\t\treturn rhs/det\n",
    "\n",
    "\t@staticmethod\n",
    "\tdef is_inter_on_sgmt(inter, line):\n",
    "\t\t\"\"\"Tests whether a line intersection lies on a line segment\"\"\"\n",
    "\t\treturn (min(line.a[0], line.b[0]) <= inter[0] <= max(line.a[0], line.b[0])) and (min(line.a[1], line.b[1]) <= inter[1] <= max(line.a[1], line.b[1]))"
   ]
  },
  {
   "cell_type": "code",
   "execution_count": 4,
   "id": "57a879e6-2576-4944-8337-d103014ae697",
   "metadata": {},
   "outputs": [],
   "source": [
    "# TODO : oldpos mixin\n",
    "\n",
    "class Ball:\n",
    "    def __init__(self, pos=(0,0), vel=(0,0)):\n",
    "        self.pos = np.array(pos, dtype=float)\n",
    "        self.pos_old = self.pos\n",
    "        self.pos_hist = []\n",
    "        self.vel = np.array(vel, dtype=float)"
   ]
  },
  {
   "cell_type": "code",
   "execution_count": 5,
   "id": "6633f87c-8644-4c79-bf6d-b55ae7b3bd4d",
   "metadata": {},
   "outputs": [],
   "source": [
    "class World:\n",
    "    def __init__(self, lines=[], balls=[]):\n",
    "        self.lines = lines\n",
    "        self.balls = balls\n",
    "        \n",
    "    def integrate(self, dt):\n",
    "        for ball in self.balls:\n",
    "            ball.pos_old = np.array(ball.pos)\n",
    "            ball.pos += ball.vel * dt\n",
    "            \n",
    "    def resolve_collision(self, ball):\n",
    "        ignored_lines = []\n",
    "        inters = []\n",
    "        \n",
    "        while True:\n",
    "            # Compute all intersection points with the lines in the trajectory and test if it lies on both segments\n",
    "            inters = []\n",
    "            for line in self.lines:\n",
    "                if line in ignored_lines:\n",
    "                    continue\n",
    "                l1 = Line(a=ball.pos_old, b=ball.pos)\n",
    "                l2 = line\n",
    "                pt = Line.intersection(l1, l2)\n",
    "                if Line.is_inter_on_sgmt(pt, l1) and Line.is_inter_on_sgmt(pt, l2):\n",
    "                    inters.append((pt, line))\n",
    "                    \n",
    "            if len(inters) == 0:\n",
    "                # No collision to be resolved\n",
    "                break\n",
    "                \n",
    "            dists = [np.linalg.norm(pt-ball.pos_old) for (pt, line) in inters]\n",
    "            ignored_lines = []\n",
    "            for i, (inter, line) in enumerate(inters):\n",
    "                # Find intersection closest to the old ball position within a tolerance\n",
    "                # This is done to deal with \"perfect corner\" situations\n",
    "                if dists[i] - min(dists) > 1e-15:\n",
    "                    continue\n",
    "\n",
    "                # Compute the correction\n",
    "                diff = ball.pos - inter\n",
    "                n, m = line.vec_perp, line.vec_para\n",
    "                newpos = inter - np.dot(n, diff)*n + np.dot(m, diff)*m\n",
    "                newvel = -np.dot(n, ball.vel)*n + np.dot(m, ball.vel)*m\n",
    "\n",
    "                # Resolve collision (with the closest line)\n",
    "                # Snap ball to intersection point. At this point the ball is \"inside\" the closed shape\n",
    "                ball.pos_old = inter\n",
    "                ball.pos = newpos\n",
    "                ball.vel = newvel\n",
    "\n",
    "                ball.pos_hist.append(ball.pos_old)\n",
    "\n",
    "                # Resolve the rest of the collisions (ball may have crossed multiple lines in one step)\n",
    "                # Since the oldpos is on the line, the next iteration will always consider that collision point and the program hangs\n",
    "                ignored_lines.append(line)\n",
    "            \n",
    "    def step(self, dt):\n",
    "        self.integrate(dt)\n",
    "        for ball in self.balls:\n",
    "            self.resolve_collision(ball)"
   ]
  },
  {
   "cell_type": "code",
   "execution_count": 6,
   "id": "c52f7a5c-43ca-4863-b18f-c59f9db99af6",
   "metadata": {},
   "outputs": [],
   "source": [
    "import matplotlib.pyplot as plt"
   ]
  },
  {
   "cell_type": "code",
   "execution_count": 7,
   "id": "5229af17-1dc1-4cfa-8e70-e7842510d98a",
   "metadata": {},
   "outputs": [],
   "source": [
    "def plot_line(line, ax, **kwargs):\n",
    "    ax.plot([line.a[0], line.b[0]], [line.a[1], line.b[1]], **kwargs)\n",
    "    \n",
    "def plot_vec(vec, ax, orig=(0, 0), **kwargs):\n",
    "    ax.plot([orig[0], orig[0]+vec[0]], [orig[1], orig[1]+vec[1]], **kwargs)\n",
    "    \n",
    "def plot_ball(ball, ax):\n",
    "    ax.plot(*ball.pos, '.', color='tab:gray')\n",
    "    plot_vec(ball.vel, ax, orig=ball.pos, color='tab:gray')\n",
    "    \n",
    "def plot_hist(ball, ax, **kwargs):\n",
    "    pos_hist = np.array(ball.pos_hist)\n",
    "    ax.plot(pos_hist[:, 0], pos_hist[:, 1], **kwargs)"
   ]
  },
  {
   "cell_type": "code",
   "execution_count": 20,
   "id": "6901b054-75c2-449c-9077-82d586be6e0c",
   "metadata": {
    "tags": []
   },
   "outputs": [
    {
     "data": {
      "image/png": "[encoded data removed]",
      "text/plain": [
       "<Figure size 900x600 with 1 Axes>"
      ]
     },
     "metadata": {
      "needs_background": "light"
     },
     "output_type": "display_data"
    }
   ],
   "source": [
    "fig, ax = plt.subplots(dpi=150)\n",
    "# ax.set_aspect('equal')\n",
    "\n",
    "world = World(\n",
    "#     lines=[\n",
    "#         Line(a=(0, 0), b=(50, 0)),\n",
    "#         Line(a=(0, 1), b=(50, 1)),\n",
    "#         Line(a=(0, 0.2), b=(50, 1))\n",
    "#     ],\n",
    "#     lines=[\n",
    "#         Line(a=(0, 0), b=(8, 0)),\n",
    "#         Line(a=(8, 0), b=(10, 6)),\n",
    "#         Line(a=(10, 6), b=(1, 5)),\n",
    "#         Line(a=(1, 5), b=(0, 0))\n",
    "#     ],\n",
    "    lines=[\n",
    "        Line(a=(2, 1), b=(2, 4)),\n",
    "        Line(a=(1, 2), b=(4, 2))\n",
    "    ],\n",
    "    balls=[Ball(pos=(0, 1), vel=(2, 1))]\n",
    ")\n",
    "\n",
    "for line in world.lines:\n",
    "    plot_line(line, ax, color='tab:gray', linewidth=0.5)\n",
    "    \n",
    "pos_list = []\n",
    "pos_list.append(world.balls[-1].pos)\n",
    "plot_ball(world.balls[-1], ax)\n",
    "world.step(10)\n",
    "plot_ball(world.balls[-1], ax)\n",
    "plot_hist(world.balls[-1], ax, linewidth=1)\n",
    "\n",
    "plt.show()\n",
    "plt.close()"
   ]
  },
  {
   "cell_type": "markdown",
   "id": "c0bed101-6b21-4c70-96f5-c7cd45cffd52",
   "metadata": {},
   "source": [
    "# Testing Line"
   ]
  },
  {
   "cell_type": "code",
   "execution_count": 9,
   "id": "fb163872-ddd4-4e5c-9658-1099e658ca21",
   "metadata": {},
   "outputs": [
    {
     "name": "stdout",
     "output_type": "stream",
     "text": [
      "(0.0, 2.0, 0.0)\n",
      "(-2.0, -0.0, 0.0)\n"
     ]
    }
   ],
   "source": [
    "l1 = Line(a=(-1, 0), b=(1, 0))\n",
    "l2 = Line(a=(0, -1), b=(0, 1))\n",
    "\n",
    "print(l1.coefs, l2.coefs, sep='\\n')"
   ]
  }
 ],
 "metadata": {
  "kernelspec": {
   "display_name": "Python 3 (ipykernel)",
   "language": "python",
   "name": "python3"
  },
  "language_info": {
   "codemirror_mode": {
    "name": "ipython",
    "version": 3
   },
   "file_extension": ".py",
   "mimetype": "text/x-python",
   "name": "python",
   "nbconvert_exporter": "python",
   "pygments_lexer": "ipython3",
   "version": "3.9.6"
  }
 },
 "nbformat": 4,
 "nbformat_minor": 5
}
